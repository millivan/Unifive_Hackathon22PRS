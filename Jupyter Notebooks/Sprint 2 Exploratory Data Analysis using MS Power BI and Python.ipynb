{
 "cells": [
  {
   "cell_type": "markdown",
   "metadata": {},
   "source": [
    "# Exploratory Data Analysis using MS Power BI/ Python (matplotlib/ seaborn)\n",
    "*This ipynb file serves as a file to run our Python code as well as document our EDA processes, all visuals included here are generated and retrieved from our Exploratory Data Analysis using MS Power BI and Python.pbix file either from their provided visuals or using Python scripts by importing matplotlib and seaborn libraries."
   ]
  },
  {
   "cell_type": "markdown",
   "metadata": {},
   "source": [
    "## Correlation Analysis \n",
    "The Correlation plot provided by Microsoft Corporation within Power BI visuals is useful for correlation analysis. By inputting our pre-processed data via data cleaning, we get the correlation plot below:\n",
    "\n",
    "<img src=\"../Charts and Visualizations/Correlation Analysis.png\">\n",
    "\n",
    "As correlation plots only work for continuous data, certain variables such as Claim, Product Name, etc. are not included in this part of the analysis.\n",
    "\n",
    "From this plot, we can say that Net Sales and Commission are strongly correlated. That is because Commission is a product of Net Sales. Logically speaking, without Net Sales, there would not \n",
    "be a Commission too. Hence, we choose the 2nd most positively related pair: Net Sales - Duration, and decided to continue our EDA from here on.\n",
    "\n",
    "Do note that we do not continue EDA from the Commission-Commission Percentage pair as the Commission Percentage variable is derived from the Commission variable itself. Therefore, it would make sense that these two variables would be very positively related."
   ]
  },
  {
   "cell_type": "markdown",
   "metadata": {},
   "source": [
    "## Data Distribution and Density Plots"
   ]
  },
  {
   "cell_type": "markdown",
   "metadata": {},
   "source": [
    "To give a better understanding of how our dataset looks like, we created two density plots showing the distribution of our data according to Age and Net Sales (both density plots are from MS Power BI):\n",
    "\n",
    "<img src=\"../Charts and Visualizations/Density Plot of Age.png\">\n",
    "<br>\n",
    "<br>\n",
    "<img src=\"../Charts and Visualizations/Density Plot of Net Sales.png\">\n",
    "\n",
    "This shows that most insurance purchases were made by customers with an age of around 36 years old, and the net sales for most purchases are within the range 0 - 60."
   ]
  }
 ],
 "metadata": {
  "language_info": {
   "name": "python"
  },
  "orig_nbformat": 4
 },
 "nbformat": 4,
 "nbformat_minor": 2
}
