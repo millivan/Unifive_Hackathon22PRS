{
 "cells": [
  {
   "cell_type": "markdown",
   "metadata": {},
   "source": [
    "# Exploratory Data Analysis using MS Power BI/ Python (matplotlib/ seaborn)\n",
    "*This ipynb file serves as a file to run our Python code as well as document our EDA processes, all visuals included here are generated and retrieved from our Exploratory Data Analysis using MS Power BI and Python.pbix file either from their provided visuals or using Python scripts by importing matplotlib and seaborn libraries."
   ]
  },
  {
   "cell_type": "markdown",
   "metadata": {},
   "source": [
    "## Correlation Analysis \n",
    "The Correlation plot provided by Microsoft Corporation within Power BI visuals is useful for correlation analysis. By inputting our pre-processed data via data cleaning, we get the correlation plot below:\n",
    "\n",
    "<img src=\"../Charts and Visualizations/Correlation Analysis.png\">\n",
    "\n",
    "As correlation plots only work for numeric data, categorical variables such as Claim, Product Name, etc. are not included in this part of the analysis.\n",
    "\n",
    "From this plot, we can say that Net Sales and Commission are strongly correlated. That is because Commission is a product of Net Sales. Logically speaking, without Net Sales, there would not \n",
    "be a Commission too. Hence, we choose the 2nd most positively related pair: Net Sales - Duration, and decided to continue our EDA from here on.\n",
    "\n",
    "Do note that we do not continue EDA from the Commission-Commission Percentage pair as the Commission Percentage variable is derived from the Commission variable itself. Therefore, it would make sense that these two variables would be very positively related."
   ]
  },
  {
   "cell_type": "markdown",
   "metadata": {},
   "source": [
    "## Data Distribution and Density Plots"
   ]
  },
  {
   "cell_type": "markdown",
   "metadata": {},
   "source": [
    "To give a better understanding of how our dataset looks like, we created two density plots showing the distribution of our data according to Age and Net Sales (both density plots are from MS Power BI):\n",
    "\n",
    "<img src=\"../Charts and Visualizations/Density Plot of Age.png\">\n",
    "<br>\n",
    "<br>\n",
    "<img src=\"../Charts and Visualizations/Density Plot of Net Sales.png\">\n",
    "\n",
    "This shows that most insurance purchases were made by customers with an age of around 36 years old, and the net sales for most purchases are within the range 0 - 60."
   ]
  },
  {
   "cell_type": "markdown",
   "metadata": {},
   "source": [
    "## Anomaly Behaviour/ Patterns\n",
    "While working on the relationship between Net Sales and Duration, we've found anomalies in the Duration column as our graph on the x-axis extended to more than 4000:\n",
    "\n",
    "<img src=\"../Charts and Visualizations/Original Net Sales by Duration.png\">\n",
    "\n",
    "This anomaly disrupts our dataset and we went back to data cleaning to remove the 14 anomalies. This is now the Net Sales by Duration line chart after the anomalies have been removed:\n",
    "\n",
    "<img src=\"../Charts and Visualizations/Cleaned Net Sales by Duration.png\">\n",
    "\n"
   ]
  },
  {
   "cell_type": "markdown",
   "metadata": {},
   "source": [
    "From this chart, we can say that there are 2 different spikes in Net Sales, one at within 2 weeks, and one at the 1-year mark. This observation will be important to us in our future analysis at the important features section."
   ]
  },
  {
   "cell_type": "markdown",
   "metadata": {},
   "source": [
    "## Statistical Test & Description"
   ]
  },
  {
   "cell_type": "markdown",
   "metadata": {},
   "source": [
    "We utilize the train_test_split function from the sklearn.model_selection library to obtain 10 percent of data from our cleaned dataset randomly and use that 10 percent of data to perform our statistical test. The Pandas.dataframe.corr() function calculates the correlation between Duration and Net Sales and its value will be stored in r in the next cell. "
   ]
  },
  {
   "cell_type": "code",
   "execution_count": 26,
   "metadata": {},
   "outputs": [
    {
     "name": "stdout",
     "output_type": "stream",
     "text": [
      "           Duration  Net Sales\n",
      "Duration   1.000000   0.654308\n",
      "Net Sales  0.654308   1.000000\n",
      "6235\n"
     ]
    }
   ],
   "source": [
    "from sklearn.model_selection import train_test_split\n",
    "import pandas as pd\n",
    "\n",
    "dataset = pd.read_excel(\"../Datasets/MASA_Hackathon_2022_Travel_Insurance_Data_Set_Cleaned.xlsx\")\n",
    "\n",
    "x = dataset[\"Duration\"]\n",
    "y = dataset[\"Net Sales\"]\n",
    "\n",
    "x_train, x_test, y_train, y_test = train_test_split(x, y, test_size=0.1, train_size=0.9, shuffle=True, random_state=1)\n",
    "df = pd.concat([x_test, y_test], axis=1, join=\"inner\")\n",
    "\n",
    "print(df.corr(method=\"pearson\"))\n",
    "\n",
    "# n is the value of sample size, neede for Fisher's Transformation test\n",
    "n = df.shape[0]\n",
    "print(n)"
   ]
  },
  {
   "cell_type": "markdown",
   "metadata": {},
   "source": [
    "Now, with the correlation calculated, we store it in variable r and perform our calculations.<br>\n",
    "**h<sub>0</sub>: rho = 0.6**<br>\n",
    "**h<sub>1</sub>: rho > 0.6**"
   ]
  },
  {
   "cell_type": "code",
   "execution_count": 33,
   "metadata": {},
   "outputs": [
    {
     "name": "stdout",
     "output_type": "stream",
     "text": [
      "7.077064172725067\n"
     ]
    }
   ],
   "source": [
    "from math import log, sqrt\n",
    "\n",
    "rho = 0.6\n",
    "r = 0.654308\n",
    "Z = 0.5 * (log((1 + r) / (1 - r)) - log((1 + rho) / (1 - rho))) / sqrt(1 / (n - 3))\n",
    "print(Z)"
   ]
  },
  {
   "cell_type": "markdown",
   "metadata": {},
   "source": [
    "Since this test statistic is larger than the critical value at 5% significance level, Z<sub>0.05</sub> = 1.645 indicating that the null hypothesis h<sub>0</sub> cannot be rejected and is in favor of the alternative h<sub>1</sub>.\n",
    "\n",
    "To conclude, the sample data suggests that population correlation, rho > 0.6."
   ]
  },
  {
   "cell_type": "markdown",
   "metadata": {},
   "source": [
    "## Important Features\n",
    "Net Sales is greatly influenced by the product. Therefore, we decided to discover the correlation that we already have and find the connection between it and different products.\n",
    "\n",
    "<img src=\"../Charts and Visualizations/Net Sales by Product Name.png\">\n",
    "\n",
    "This pie chart explains why there are 2 spikes, 2 way Comprehensive Plan, Cancellation Plan, and Rental Vehicle Excess Insurance are mostly short-term insurance plans, whereas the Annual Silver Plan starts at 364 days.\n",
    "\n",
    "<img src=\"../Charts and Visualizations/Annual Silver Plan Net Sales and Location.png\">\n",
    "\n",
    "The Annual Silver Plan shows an interesting visualization as it provides the highest net sales for a single timeframe, which is 66,509.20 for plans with duration of 365 days. More interestingly, all Annual Silver Plan customers travel to Singapore."
   ]
  }
 ],
 "metadata": {
  "kernelspec": {
   "display_name": "Python 3.10.4 64-bit",
   "language": "python",
   "name": "python3"
  },
  "language_info": {
   "codemirror_mode": {
    "name": "ipython",
    "version": 3
   },
   "file_extension": ".py",
   "mimetype": "text/x-python",
   "name": "python",
   "nbconvert_exporter": "python",
   "pygments_lexer": "ipython3",
   "version": "3.10.4"
  },
  "orig_nbformat": 4,
  "vscode": {
   "interpreter": {
    "hash": "369f2c481f4da34e4445cda3fffd2e751bd1c4d706f27375911949ba6bb62e1c"
   }
  }
 },
 "nbformat": 4,
 "nbformat_minor": 2
}
